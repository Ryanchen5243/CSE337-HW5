{
  "cells": [
    {
      "cell_type": "markdown",
      "metadata": {
        "id": "view-in-github"
      },
      "source": [
        "<a href=\"https://colab.research.google.com/github/flatplanet/Pytorch-Tutorial-Youtube/blob/main/simple_NeuralNetwork.ipynb\" target=\"_parent\"><img src=\"https://colab.research.google.com/assets/colab-badge.svg\" alt=\"Open In Colab\"/></a>"
      ]
    },
    {
      "cell_type": "markdown",
      "metadata": {
        "id": "_LUHVxQiDyYh"
      },
      "source": [
        "# Problem 2: Neural Network using PyTorch"
      ]
    },
    {
      "cell_type": "code",
      "execution_count": 1,
      "metadata": {
        "id": "vGOD8SzOPQAk"
      },
      "outputs": [],
      "source": [
        "import torch\n",
        "import numpy as np\n",
        "import torch.nn as nn\n",
        "import torch.nn.functional as F\n"
      ]
    },
    {
      "cell_type": "markdown",
      "metadata": {
        "id": "m53jHtQQDyYi"
      },
      "source": [
        "## Create a Model ( with three hidden layers)"
      ]
    },
    {
      "cell_type": "code",
      "execution_count": 2,
      "metadata": {
        "id": "mnDj8FLiRSxO"
      },
      "outputs": [],
      "source": [
        "# Create a Model Class that inherits nn.Module\n",
        "class Model(nn.Module):\n",
        "    def __init__(self,in_features,out_features,h1=9, h2=8, h3=7):\n",
        "        super().__init__()\n",
        "        self.fc1 = nn.Linear(in_features, h1)\n",
        "        self.fc2 = nn.Linear(h1, h2)\n",
        "        self.fc3 = nn.Linear(h2,h3)\n",
        "        self.out = nn.Linear(h3, out_features)\n",
        "\n",
        "    def forward(self,x):\n",
        "      x = F.relu(self.fc1(x))\n",
        "      x = F.relu(self.fc2(x))\n",
        "      x = F.relu(self.fc3(x))\n",
        "      x = self.out(x)\n",
        "      return x"
      ]
    },
    {
      "cell_type": "code",
      "execution_count": 3,
      "metadata": {
        "id": "11Q8PWnaUVYj"
      },
      "outputs": [],
      "source": [
        "import pandas as pd\n",
        "import matplotlib.pyplot as plt\n",
        "%matplotlib inline"
      ]
    },
    {
      "cell_type": "markdown",
      "source": [
        "## Correlation Analysis"
      ],
      "metadata": {
        "id": "GCbIKXAgICmw"
      }
    },
    {
      "cell_type": "code",
      "source": [
        "my_df = pd.read_csv('cars.csv')"
      ],
      "metadata": {
        "id": "48QONiSqJOd_"
      },
      "execution_count": 4,
      "outputs": []
    },
    {
      "cell_type": "code",
      "source": [
        "# replace carbody column with numeric integers\n",
        "target_col = 'carbody'\n",
        "my_df[target_col] = my_df[target_col].replace('convertible',0.0)\n",
        "my_df[target_col] = my_df[target_col].replace('hardtop',1.0)\n",
        "my_df[target_col] = my_df[target_col].replace('hatchback',2.0)\n",
        "my_df[target_col] = my_df[target_col].replace('sedan',3.0)\n",
        "my_df[target_col] = my_df[target_col].replace('wagon',4.0)"
      ],
      "metadata": {
        "id": "H1ztmfDMJGxU"
      },
      "execution_count": 5,
      "outputs": []
    },
    {
      "cell_type": "code",
      "execution_count": 6,
      "metadata": {
        "id": "3WzV4PfT2xhF",
        "colab": {
          "base_uri": "https://localhost:8080/"
        },
        "outputId": "f9766f40-5fd6-42aa-c95e-ecb19d542ef1"
      },
      "outputs": [
        {
          "output_type": "stream",
          "name": "stdout",
          "text": [
            "the top five columns with higest correlation with target = carbody\n",
            "carbody 1.0\n",
            "carheight 0.5685343155450354\n",
            "wheelbase 0.4013623316186531\n",
            "carlength 0.33443343846979984\n",
            "horsepower 0.15392758660996628\n",
            "compressionratio 0.13624338506021347\n",
            "\n",
            "the resulting indepdendnet vars are \n",
            "['carheight', 'wheelbase', 'carlength', 'horsepower', 'compressionratio']\n"
          ]
        }
      ],
      "source": [
        "# consider only quantitative data (non categorical)\n",
        "# print(my_df.select_dtypes(include='number'))\n",
        "numeric_cols = ['wheelbase','carlength','carwidth','carheight','curbweight','enginesize',\n",
        "                    'boreratio','stroke','compressionratio','horsepower', 'peakrpm',\n",
        "                    'citympg','highwaympg','price',target_col]\n",
        "\n",
        "# perform correlation analysis with transformed target\n",
        "carbody_correlations = my_df[numeric_cols].corr()[[target_col]].abs().sort_values(by=target_col, ascending=False)\n",
        "top_five_correlations = carbody_correlations.head(6)\n",
        "\n",
        "indepdent_vars = []\n",
        "print(\"the top five columns with higest correlation with target = carbody\")\n",
        "for ind,val in top_five_correlations.iterrows():\n",
        "  print(ind,val[target_col])\n",
        "  if ind == target_col:\n",
        "    continue\n",
        "  indepdent_vars.append(ind)\n",
        "print(\"\\nthe resulting indepdendnet vars are \")\n",
        "print(indepdent_vars)"
      ]
    },
    {
      "cell_type": "markdown",
      "source": [
        "## Train Test Split"
      ],
      "metadata": {
        "id": "wdjK7NyUNtUK"
      }
    },
    {
      "cell_type": "code",
      "source": [
        "from sklearn.model_selection import train_test_split\n",
        "X = my_df.drop(target_col, axis=1)[indepdent_vars]\n",
        "y = my_df[target_col]\n",
        "\n",
        "X_train, X_test, y_train, y_test = train_test_split(\n",
        "  X, y, test_size=0.33, random_state=42)"
      ],
      "metadata": {
        "id": "6-YfFyvFNngS"
      },
      "execution_count": 7,
      "outputs": []
    },
    {
      "cell_type": "markdown",
      "source": [
        "## Select Loss Function, optimizer, epochs"
      ],
      "metadata": {
        "id": "6YH30TYJOK12"
      }
    },
    {
      "cell_type": "code",
      "source": [
        "# Convert X features to float tensors\n",
        "X_train = torch.FloatTensor(X_train.values)\n",
        "X_test = torch.FloatTensor(X_test.values)\n",
        "\n",
        "# Convert y labels to tensors long\n",
        "y_train = torch.LongTensor(y_train.values)\n",
        "y_test = torch.LongTensor(y_test.values)\n",
        "\n",
        "model = Model(in_features=len(indepdent_vars),out_features=len(np.unique(my_df[\"carbody\"])))\n",
        "\n",
        "# Set the criterion of model to measure the error\n",
        "criterion = nn.CrossEntropyLoss()\n",
        "# Choose Adam Optimizer\n",
        "optimizer = torch.optim.Adam(model.parameters(), lr=0.01)\n",
        "\n"
      ],
      "metadata": {
        "id": "KfHpCsstOR3S"
      },
      "execution_count": 8,
      "outputs": []
    },
    {
      "cell_type": "markdown",
      "source": [
        "## Train and test the model!"
      ],
      "metadata": {
        "id": "TfyuZUrxXUor"
      }
    },
    {
      "cell_type": "code",
      "execution_count": 9,
      "metadata": {
        "colab": {
          "base_uri": "https://localhost:8080/"
        },
        "id": "D0dgVdSaDyYl",
        "outputId": "7b0d582e-7433-4fb9-87cd-fc3225649e82"
      },
      "outputs": [
        {
          "output_type": "stream",
          "name": "stdout",
          "text": [
            "Epoch: 0 and loss: 5.522885322570801\n",
            "Epoch: 10 and loss: 1.3270331621170044\n",
            "Epoch: 20 and loss: 1.213490605354309\n",
            "Epoch: 30 and loss: 1.1851166486740112\n",
            "Epoch: 40 and loss: 1.1669608354568481\n",
            "Epoch: 50 and loss: 1.1566102504730225\n",
            "Epoch: 60 and loss: 1.1503287553787231\n",
            "Epoch: 70 and loss: 1.1463255882263184\n",
            "Epoch: 80 and loss: 1.1429015398025513\n",
            "Epoch: 90 and loss: 1.1399574279785156\n"
          ]
        }
      ],
      "source": [
        "# model training\n",
        "epochs = 100\n",
        "losses = []\n",
        "for i in range(epochs):\n",
        "  y_pred = model.forward(X_train)\n",
        "  loss = criterion(y_pred, y_train)\n",
        "  losses.append(loss.detach().numpy())\n",
        "\n",
        "  # print every 10 epoch\n",
        "  if i % 10 == 0:\n",
        "    print(f'Epoch: {i} and loss: {loss}')\n",
        "\n",
        "  # back propagation\n",
        "  optimizer.zero_grad()\n",
        "  loss.backward()\n",
        "  optimizer.step()"
      ]
    },
    {
      "cell_type": "markdown",
      "source": [
        "## Plot the training graph - loss vs epochs"
      ],
      "metadata": {
        "id": "UmC3z6EpOc6t"
      }
    },
    {
      "cell_type": "code",
      "source": [
        "# Graph it out!\n",
        "plt.plot(range(epochs), losses)\n",
        "plt.ylabel(\"loss/error\")\n",
        "plt.xlabel('Epoch')"
      ],
      "metadata": {
        "colab": {
          "base_uri": "https://localhost:8080/",
          "height": 466
        },
        "id": "eGzg0uYsU75v",
        "outputId": "265bff57-4c35-40bb-9ec8-51eab6d185c5"
      },
      "execution_count": 10,
      "outputs": [
        {
          "output_type": "execute_result",
          "data": {
            "text/plain": [
              "Text(0.5, 0, 'Epoch')"
            ]
          },
          "metadata": {},
          "execution_count": 10
        },
        {
          "output_type": "display_data",
          "data": {
            "text/plain": [
              "<Figure size 640x480 with 1 Axes>"
            ],
            "image/png": "[encoded data removed]"
          },
          "metadata": {}
        }
      ]
    },
    {
      "cell_type": "markdown",
      "source": [
        "## Test the model on test data set and print loss performance"
      ],
      "metadata": {
        "id": "KES2ecGYXnUJ"
      }
    },
    {
      "cell_type": "code",
      "source": [
        "# Evaluate Model on Test Data Set\n",
        "with torch.no_grad():  # Basically turn off back propogation\n",
        "  y_eval = model.forward(X_test) # X_test are features from our test set, y_eval will be predictions\n",
        "  loss = criterion(y_eval, y_test) # Find the loss or error\n",
        "  print(loss)"
      ],
      "metadata": {
        "colab": {
          "base_uri": "https://localhost:8080/"
        },
        "id": "oJfK1qbPVAvM",
        "outputId": "375184e9-9e79-415c-a970-328dc05f7a1a"
      },
      "execution_count": 11,
      "outputs": [
        {
          "output_type": "stream",
          "name": "stdout",
          "text": [
            "tensor(1.3140)\n"
          ]
        }
      ]
    },
    {
      "cell_type": "code",
      "source": [
        "correct = 0\n",
        "with torch.no_grad():\n",
        "  for i, data in enumerate(X_test):\n",
        "    y_val = model.forward(data)\n",
        "\n",
        "    if y_test[i] == 0.0:\n",
        "      x = \"convertible\"\n",
        "    elif y_test[i] == 1.0:\n",
        "      x = 'hardtop'\n",
        "    elif y_test[i] == 2.0:\n",
        "      x = 'hatchback'\n",
        "    elif y_test[i] == 3.0:\n",
        "      x = \"sedan\"\n",
        "    else:\n",
        "      x = \"wagon\"\n",
        "\n",
        "    print(f'{i+1}.)  {str(y_val)} \\t {y_test[i]} \\t {y_val.argmax().item()}')\n",
        "\n",
        "    # Correct or not\n",
        "    if y_val.argmax().item() == y_test[i]:\n",
        "      correct +=1\n",
        "\n",
        "print(f'We got {correct} correct!')\n"
      ],
      "metadata": {
        "colab": {
          "base_uri": "https://localhost:8080/"
        },
        "id": "eWs8LKyqVo45",
        "outputId": "b0059200-44d6-41dd-f469-c56eb4c6c2d1"
      },
      "execution_count": 12,
      "outputs": [
        {
          "output_type": "stream",
          "name": "stdout",
          "text": [
            "1.)  tensor([-1.0850,  0.2590,  1.2477,  1.0849, -0.1347]) \t 3 \t 2\n",
            "2.)  tensor([-1.0042, -0.3129,  1.0770,  1.0625, -0.1032]) \t 2 \t 2\n",
            "3.)  tensor([-1.3261, -3.3293,  0.8736,  1.4193,  0.1652]) \t 3 \t 3\n",
            "4.)  tensor([-1.4744, -3.6233,  0.9659,  1.5299,  0.2066]) \t 2 \t 3\n",
            "5.)  tensor([-1.1686, -1.9051,  0.9472,  1.2387,  0.0422]) \t 4 \t 3\n",
            "6.)  tensor([-1.7179, -4.1814,  1.1493,  1.7375,  0.2685]) \t 2 \t 3\n",
            "7.)  tensor([-1.6848, -4.1082,  1.1255,  1.7102,  0.2599]) \t 2 \t 3\n",
            "8.)  tensor([-1.6658, -4.0707,  1.1137,  1.6961,  0.2546]) \t 3 \t 3\n",
            "9.)  tensor([-1.3518, -3.3879,  0.8928,  1.4411,  0.1718]) \t 4 \t 3\n",
            "10.)  tensor([-1.8904, -4.5280,  1.2586,  1.8678,  0.3163]) \t 3 \t 3\n",
            "11.)  tensor([-1.1688, -2.9835,  0.7613,  1.2903,  0.1240]) \t 3 \t 3\n",
            "12.)  tensor([-1.7745, -4.2971,  1.1860,  1.7809,  0.2840]) \t 2 \t 3\n",
            "13.)  tensor([-1.0279, -1.7607,  0.8463,  1.1451,  0.0107]) \t 3 \t 3\n",
            "14.)  tensor([-1.2697, -3.2103,  0.8354,  1.3748,  0.1501]) \t 2 \t 3\n",
            "15.)  tensor([-1.1178,  0.1383,  1.2565,  1.1110, -0.1208]) \t 3 \t 2\n",
            "16.)  tensor([-1.5973, -3.9324,  1.0700,  1.6442,  0.2357]) \t 2 \t 3\n",
            "17.)  tensor([-1.5136, -3.7797,  1.0236,  1.5863,  0.2113]) \t 2 \t 3\n",
            "18.)  tensor([-0.9842, -0.9605,  0.9475,  1.0811, -0.0570]) \t 2 \t 3\n",
            "19.)  tensor([-1.4502, -3.6031,  0.9626,  1.5215,  0.1976]) \t 3 \t 3\n",
            "20.)  tensor([-1.2730, -3.2230,  0.8401,  1.3794,  0.1505]) \t 3 \t 3\n",
            "21.)  tensor([-1.7335, -4.1930,  1.1508,  1.7425,  0.2744]) \t 3 \t 3\n",
            "22.)  tensor([-1.0704, -0.9850,  1.0206,  1.1355, -0.0426]) \t 3 \t 3\n",
            "23.)  tensor([-1.5692, -3.8687,  1.0492,  1.6205,  0.2285]) \t 1 \t 3\n",
            "24.)  tensor([-1.4393, -3.6198,  0.9720,  1.5265,  0.1916]) \t 2 \t 3\n",
            "25.)  tensor([-1.3894, -3.4977,  0.9311,  1.4813,  0.1795]) \t 3 \t 3\n",
            "26.)  tensor([-1.0962, -0.0982,  1.1965,  1.1090, -0.1060]) \t 3 \t 2\n",
            "27.)  tensor([-1.0740, -2.4087,  0.7739,  1.2035,  0.0670]) \t 1 \t 3\n",
            "28.)  tensor([-1.2725, -3.1878,  0.8253,  1.3672,  0.1530]) \t 4 \t 3\n",
            "29.)  tensor([-1.8250, -4.3977,  1.2176,  1.8188,  0.2981]) \t 4 \t 3\n",
            "30.)  tensor([-1.2396, -3.1203,  0.8039,  1.3419,  0.1440]) \t 3 \t 3\n",
            "31.)  tensor([-1.1406, -1.8347,  0.9344,  1.2181,  0.0327]) \t 3 \t 3\n",
            "32.)  tensor([-1.3894, -3.4977,  0.9311,  1.4813,  0.1795]) \t 2 \t 3\n",
            "33.)  tensor([-1.9582, -4.6642,  1.3015,  1.9189,  0.3350]) \t 4 \t 3\n",
            "34.)  tensor([-1.1051, -1.8127,  0.9064,  1.1952,  0.0259]) \t 3 \t 3\n",
            "35.)  tensor([-0.9586, -2.0905,  0.7261,  1.1175,  0.0258]) \t 2 \t 3\n",
            "36.)  tensor([-1.1171, -1.7677,  0.9251,  1.2006,  0.0242]) \t 1 \t 3\n",
            "37.)  tensor([-1.0882, -2.5945,  0.7540,  1.2209,  0.0833]) \t 3 \t 3\n",
            "38.)  tensor([-1.0419, -2.7436,  0.6873,  1.1997,  0.0877]) \t 2 \t 3\n",
            "39.)  tensor([-1.2872, -3.2783,  0.8605,  1.3993,  0.1523]) \t 3 \t 3\n",
            "40.)  tensor([-0.9842, -0.9605,  0.9475,  1.0811, -0.0570]) \t 2 \t 3\n",
            "41.)  tensor([-1.6206, -3.9628,  1.0779,  1.6561,  0.2434]) \t 4 \t 3\n",
            "42.)  tensor([-1.3077, -3.2897,  0.8608,  1.4045,  0.1603]) \t 3 \t 3\n",
            "43.)  tensor([-1.4637, -3.6045,  0.9602,  1.5228,  0.2034]) \t 3 \t 3\n",
            "44.)  tensor([-1.9582, -4.6642,  1.3015,  1.9189,  0.3350]) \t 4 \t 3\n",
            "45.)  tensor([-1.7368, -4.2196,  1.1613,  1.7519,  0.2738]) \t 3 \t 3\n",
            "46.)  tensor([-1.3310, -3.3519,  0.8821,  1.4274,  0.1656]) \t 2 \t 3\n",
            "47.)  tensor([-1.3894, -3.4977,  0.9311,  1.4813,  0.1795]) \t 2 \t 3\n",
            "48.)  tensor([-1.3943, -3.5000,  0.9311,  1.4824,  0.1814]) \t 2 \t 3\n",
            "49.)  tensor([-1.2126, -3.0672,  0.7872,  1.3219,  0.1365]) \t 3 \t 3\n",
            "50.)  tensor([-0.9842, -0.9605,  0.9475,  1.0811, -0.0570]) \t 2 \t 3\n",
            "51.)  tensor([-1.2872, -3.2783,  0.8605,  1.3993,  0.1523]) \t 2 \t 3\n",
            "52.)  tensor([-1.0204, -0.2980,  1.0941,  1.0718, -0.1020]) \t 2 \t 2\n",
            "53.)  tensor([-1.7777, -4.3040,  1.1882,  1.7835,  0.2849]) \t 3 \t 3\n",
            "54.)  tensor([-1.2951, -3.2622,  0.8519,  1.3942,  0.1570]) \t 3 \t 3\n",
            "55.)  tensor([-1.8250, -4.3977,  1.2176,  1.8188,  0.2981]) \t 4 \t 3\n",
            "56.)  tensor([-1.0999, -2.7685,  0.7339,  1.2361,  0.0983]) \t 3 \t 3\n",
            "57.)  tensor([-1.0740, -2.4087,  0.7739,  1.2035,  0.0670]) \t 1 \t 3\n",
            "58.)  tensor([-1.0419, -2.7436,  0.6873,  1.1997,  0.0877]) \t 2 \t 3\n",
            "59.)  tensor([-1.0726,  1.6195,  1.5603,  1.0567, -0.2626]) \t 0 \t 1\n",
            "60.)  tensor([-1.3945, -3.5081,  0.9344,  1.4852,  0.1809]) \t 2 \t 3\n",
            "61.)  tensor([-1.5961, -3.9100,  1.0608,  1.6363,  0.2369]) \t 3 \t 3\n",
            "62.)  tensor([-0.9782, -0.1512,  1.0815,  1.0387, -0.1192]) \t 2 \t 2\n",
            "63.)  tensor([-1.2697, -3.2103,  0.8354,  1.3748,  0.1501]) \t 2 \t 3\n",
            "64.)  tensor([-1.0073,  0.7680,  1.2655,  1.0124, -0.1845]) \t 2 \t 2\n",
            "65.)  tensor([-1.4195, -3.5252,  0.9362,  1.4927,  0.1904]) \t 3 \t 3\n",
            "66.)  tensor([-1.0450, -2.7762,  0.7005,  1.2111,  0.0865]) \t 2 \t 3\n",
            "67.)  tensor([-1.0736, -2.0789,  0.8314,  1.1880,  0.0417]) \t 3 \t 3\n",
            "68.)  tensor([-1.4242, -3.5549,  0.9478,  1.5032,  0.1901]) \t 3 \t 3\n",
            "We got 30 correct!\n"
          ]
        }
      ]
    },
    {
      "cell_type": "markdown",
      "source": [
        "## Save our model"
      ],
      "metadata": {
        "id": "dk53d_roX6Ez"
      }
    },
    {
      "cell_type": "code",
      "source": [
        "# Save our NN Model\n",
        "torch.save(model.state_dict(), 'my_really_awesome_model.pt')"
      ],
      "metadata": {
        "id": "_3M6tfZcWYPT"
      },
      "execution_count": 13,
      "outputs": []
    },
    {
      "cell_type": "code",
      "source": [],
      "metadata": {
        "id": "I_wS84ZeWlhh"
      },
      "execution_count": 13,
      "outputs": []
    }
  ],
  "metadata": {
    "colab": {
      "provenance": []
    },
    "kernelspec": {
      "display_name": "Python 3 (ipykernel)",
      "language": "python",
      "name": "python3"
    },
    "language_info": {
      "codemirror_mode": {
        "name": "ipython",
        "version": 3
      },
      "file_extension": ".py",
      "mimetype": "text/x-python",
      "name": "python",
      "nbconvert_exporter": "python",
      "pygments_lexer": "ipython3",
      "version": "3.11.5"
    }
  },
  "nbformat": 4,
  "nbformat_minor": 0
}